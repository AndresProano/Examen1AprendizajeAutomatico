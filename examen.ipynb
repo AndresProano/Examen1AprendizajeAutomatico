{
 "cells": [
  {
   "cell_type": "code",
   "execution_count": 1,
   "id": "6b1c3465",
   "metadata": {},
   "outputs": [
    {
     "name": "stderr",
     "output_type": "stream",
     "text": [
      "<>:5: SyntaxWarning: invalid escape sequence '\\s'\n",
      "<>:5: SyntaxWarning: invalid escape sequence '\\s'\n",
      "/var/folders/72/mp27nkm97419z08vlsmkz5y00000gn/T/ipykernel_73677/3257800236.py:5: SyntaxWarning: invalid escape sequence '\\s'\n",
      "  raw_df = pd.read_csv(data_url, sep=\"\\s+\", skiprows=22, header=None)\n"
     ]
    }
   ],
   "source": [
    "import pandas as pd\n",
    "import numpy as np\n",
    "\n",
    "data_url = \"http://lib.stat.cmu.edu/datasets/boston\"\n",
    "raw_df = pd.read_csv(data_url, sep=\"\\s+\", skiprows=22, header=None)\n",
    "data = np.hstack([raw_df.values[::2, :], raw_df.values[1::2, :2]])\n",
    "target = raw_df.values[1::2, 2]"
   ]
  },
  {
   "cell_type": "code",
   "execution_count": null,
   "id": "24c15ba4",
   "metadata": {},
   "outputs": [],
   "source": [
    "#a) Modelo lineal gaussiano"
   ]
  },
  {
   "cell_type": "code",
   "execution_count": null,
   "id": "a1dd6cf0",
   "metadata": {},
   "outputs": [
    {
     "name": "stdout",
     "output_type": "stream",
     "text": [
      "Gaussian Model – MAE: 3.39 ± 0.22\n",
      "Gaussian Model – RMSE: 4.91 ± 0.45\n"
     ]
    }
   ],
   "source": [
    "import statsmodels.api as sm\n",
    "from sklearn.model_selection import ShuffleSplit\n",
    "from sklearn.metrics import mean_absolute_error, mean_squared_error\n",
    "\n",
    "X = data\n",
    "y = target\n",
    "\n",
    "splitter = ShuffleSplit(n_splits=50, test_size=0.3, random_state=42)\n",
    "\n",
    "mae_scores_mlg, rmse_scores_mlg = [], []\n",
    "\n",
    "for train_index, test_index in splitter.split(X):\n",
    "    X_train, X_test = X[train_index], X[test_index]\n",
    "    y_train, y_test = y[train_index], y[test_index]\n",
    "\n",
    "    X_train_sm = sm.add_constant(X_train, has_constant='add')\n",
    "    X_test_sm = sm.add_constant(X_test, has_constant='add')\n",
    "\n",
    "    model_gaussian = sm.GLM(y_train, X_train_sm, family=sm.families.Gaussian())\n",
    "    fitted = model_gaussian.fit()\n",
    "\n",
    "    y_pred_gaussian = fitted.predict(X_test_sm)\n",
    "\n",
    "    mae_scores_mlg.append(mean_absolute_error(y_test, y_pred_gaussian))\n",
    "    rmse_scores_mlg.append(mean_squared_error(y_test, y_pred_gaussian) ** 0.5)\n",
    "\n",
    "\n",
    "mae_median = np.median(mae_scores_mlg)\n",
    "mae_std = np.std(mae_scores_mlg, ddof=1)\n",
    "rmse_median = np.median(rmse_scores_mlg)\n",
    "rmse_std = np.std(rmse_scores_mlg, ddof=1)\n",
    "\n",
    "print(f\"Gaussian Model – MAE: {mae_median:.2f} ± {mae_std:.2f}\")\n",
    "print(f\"Gaussian Model – RMSE: {rmse_median:.2f} ± {rmse_std:.2f}\")\n"
   ]
  },
  {
   "cell_type": "code",
   "execution_count": 11,
   "id": "9b99de17",
   "metadata": {},
   "outputs": [],
   "source": [
    "#b) Modelo lineal con regularización Elastic Net"
   ]
  },
  {
   "cell_type": "code",
   "execution_count": 46,
   "id": "6cdb8573",
   "metadata": {},
   "outputs": [
    {
     "name": "stdout",
     "output_type": "stream",
     "text": [
      "Elastic Net – MAE: 3.36 ± 0.22\n",
      "Elastic Net – RMSE: 4.90 ± 0.47\n"
     ]
    }
   ],
   "source": [
    "from sklearn.linear_model import ElasticNet\n",
    "from sklearn.preprocessing import StandardScaler\n",
    "from sklearn.pipeline import Pipeline\n",
    "from sklearn.model_selection import ShuffleSplit, GridSearchCV, KFold\n",
    "from sklearn.metrics import mean_absolute_error, mean_squared_error\n",
    "import numpy as np\n",
    "\n",
    "param_grid = {\n",
    "    \"elastic__alpha\": [0.001, 0.01, 0.1, 1, 10],\n",
    "    \"elastic__l1_ratio\": [0.1, 0.3, 0.5, 0.7, 0.9, 0.99],\n",
    "}\n",
    "\n",
    "pipeline = Pipeline([\n",
    "    (\"scaler\", StandardScaler()),\n",
    "    (\"elastic\", ElasticNet(max_iter=5000, random_state=42))\n",
    "])\n",
    "\n",
    "inner_cv = KFold(n_splits=7, shuffle=True, random_state=42)\n",
    "splitter = ShuffleSplit(n_splits=50, test_size=0.3, random_state=42)\n",
    "\n",
    "mae_scores, rmse_scores = [], []\n",
    "\n",
    "for train_idx, test_idx in splitter.split(X):\n",
    "    X_train, X_test = X[train_idx], X[test_idx]\n",
    "    y_train, y_test = y[train_idx], y[test_idx]\n",
    "\n",
    "    grid = GridSearchCV(\n",
    "        pipeline,\n",
    "        param_grid,\n",
    "        scoring=\"neg_mean_squared_error\",\n",
    "        cv=inner_cv,\n",
    "        n_jobs=-1\n",
    "    )\n",
    "    grid.fit(X_train, y_train)\n",
    "\n",
    "    y_pred = grid.predict(X_test)\n",
    "\n",
    "    mae_scores.append(mean_absolute_error(y_test, y_pred))\n",
    "    rmse_scores.append(mean_squared_error(y_test, y_pred) ** 0.5)\n",
    "\n",
    "mae_median = np.median(mae_scores)\n",
    "mae_std = np.std(mae_scores, ddof=1)\n",
    "rmse_median = np.median(rmse_scores)\n",
    "rmse_std = np.std(rmse_scores, ddof=1)\n",
    "\n",
    "print(f\"Elastic Net – MAE: {mae_median:.2f} ± {mae_std:.2f}\")\n",
    "print(f\"Elastic Net – RMSE: {rmse_median:.2f} ± {rmse_std:.2f}\")\n"
   ]
  },
  {
   "cell_type": "code",
   "execution_count": 6,
   "id": "210798e7",
   "metadata": {},
   "outputs": [],
   "source": [
    "#Modelo lineal con componentes principales (PCA)"
   ]
  },
  {
   "cell_type": "code",
   "execution_count": 49,
   "id": "93bdcc8c",
   "metadata": {},
   "outputs": [
    {
     "name": "stdout",
     "output_type": "stream",
     "text": [
      "PCA + LR – MAE: 3.39 ± 0.22\n",
      "PCA + LR – RMSE: 4.91 ± 0.47\n"
     ]
    }
   ],
   "source": [
    "from sklearn.pipeline import Pipeline\n",
    "from sklearn.preprocessing import StandardScaler\n",
    "from sklearn.decomposition import PCA\n",
    "from sklearn.linear_model import LinearRegression\n",
    "from sklearn.model_selection import GridSearchCV, KFold, ShuffleSplit\n",
    "from sklearn.metrics import mean_absolute_error, mean_squared_error\n",
    "import numpy as np\n",
    "\n",
    "pipeline = Pipeline([\n",
    "    (\"scaler\", StandardScaler()),\n",
    "    (\"pca\", PCA()),\n",
    "    (\"linreg\", LinearRegression())\n",
    "])\n",
    "\n",
    "param_grid = {\n",
    "    \"pca__n_components\": [5, 7, 9, 11, None]\n",
    "}\n",
    "\n",
    "inner_cv = KFold(n_splits=7, shuffle=True, random_state=42)\n",
    "splitter = ShuffleSplit(n_splits=50, test_size=0.3, random_state=42)\n",
    "\n",
    "mae_scores, rmse_scores = [], []\n",
    "\n",
    "for train_idx, test_idx in splitter.split(X):\n",
    "    X_train, X_test = X[train_idx], X[test_idx]\n",
    "    y_train, y_test = y[train_idx], y[test_idx]\n",
    "\n",
    "    grid = GridSearchCV(\n",
    "        pipeline,\n",
    "        param_grid,\n",
    "        scoring=\"neg_mean_squared_error\",\n",
    "        cv=inner_cv,\n",
    "        n_jobs=-1\n",
    "    )\n",
    "    grid.fit(X_train, y_train)\n",
    "\n",
    "    y_pred = grid.predict(X_test)\n",
    "\n",
    "    mae_scores.append(mean_absolute_error(y_test, y_pred))\n",
    "    rmse_scores.append(mean_squared_error(y_test, y_pred)**0.5)\n",
    "\n",
    "mae_median = np.median(mae_scores)\n",
    "mae_std = np.std(mae_scores, ddof=1)\n",
    "rmse_median = np.median(rmse_scores)\n",
    "rmse_std = np.std(rmse_scores, ddof=1)\n",
    "\n",
    "print(f\"PCA + LR – MAE: {mae_median:.2f} ± {mae_std:.2f}\")\n",
    "print(f\"PCA + LR – RMSE: {rmse_median:.2f} ± {rmse_std:.2f}\")\n"
   ]
  },
  {
   "cell_type": "code",
   "execution_count": 23,
   "id": "2d08ca50",
   "metadata": {},
   "outputs": [],
   "source": [
    "#Maquinas de Vector de Soporte para Regresión SVR"
   ]
  },
  {
   "cell_type": "code",
   "execution_count": 51,
   "id": "c3bf2821",
   "metadata": {},
   "outputs": [
    {
     "name": "stdout",
     "output_type": "stream",
     "text": [
      "SVR – MAE:  2.35 ± 0.25\n",
      "SVR – RMSE: 3.89 ± 0.61\n"
     ]
    }
   ],
   "source": [
    "from sklearn.pipeline import Pipeline\n",
    "from sklearn.preprocessing import StandardScaler\n",
    "from sklearn.svm import SVR\n",
    "from sklearn.model_selection import GridSearchCV, KFold, ShuffleSplit\n",
    "from sklearn.metrics import mean_absolute_error, mean_squared_error\n",
    "import numpy as np\n",
    "\n",
    "svr_pipeline = Pipeline([\n",
    "    (\"scaler\", StandardScaler()),\n",
    "    (\"svr\", SVR())\n",
    "])\n",
    "\n",
    "param_grid = {\n",
    "    \"svr__kernel\": [\"linear\", \"rbf\"],\n",
    "    \"svr__C\": [0.1, 1, 10],\n",
    "    \"svr__epsilon\": [0.01, 0.1, 1],\n",
    "    \"svr__gamma\": [\"scale\", \"auto\"]  # solo se usa cuando kernel='rbf'\n",
    "}\n",
    "\n",
    "inner_cv = KFold(n_splits=7, shuffle=True, random_state=42)\n",
    "splitter = ShuffleSplit(n_splits=50, test_size=0.3, random_state=42)\n",
    "\n",
    "mae_scores, rmse_scores = [], []\n",
    "\n",
    "for train_idx, test_idx in splitter.split(X):\n",
    "    X_train, X_test = X[train_idx], X[test_idx]\n",
    "    y_train, y_test = y[train_idx], y[test_idx]\n",
    "\n",
    "    grid = GridSearchCV(\n",
    "        svr_pipeline,\n",
    "        param_grid,\n",
    "        scoring=\"neg_mean_squared_error\",\n",
    "        cv=inner_cv,\n",
    "        n_jobs=-1\n",
    "    )\n",
    "    grid.fit(X_train, y_train)\n",
    "\n",
    "    y_pred = grid.predict(X_test)\n",
    "\n",
    "    mae_scores.append(mean_absolute_error(y_test, y_pred))\n",
    "    rmse_scores.append(mean_squared_error(y_test, y_pred) ** 0.5)\n",
    "\n",
    "mae_median = np.median(mae_scores)\n",
    "mae_std = np.std(mae_scores, ddof=1)\n",
    "rmse_median = np.median(rmse_scores)\n",
    "rmse_std = np.std(rmse_scores, ddof=1)\n",
    "\n",
    "print(f\"SVR – MAE:  {mae_median:.2f} ± {mae_std:.2f}\")\n",
    "print(f\"SVR – RMSE: {rmse_median:.2f} ± {rmse_std:.2f}\")\n"
   ]
  },
  {
   "cell_type": "code",
   "execution_count": null,
   "id": "372f5075",
   "metadata": {},
   "outputs": [],
   "source": [
    "# Árbol de decisión para regresión"
   ]
  },
  {
   "cell_type": "code",
   "execution_count": 52,
   "id": "45cbd0c9",
   "metadata": {},
   "outputs": [
    {
     "name": "stdout",
     "output_type": "stream",
     "text": [
      "Decision Tree – MAE:  2.97 ± 0.37\n",
      "Decision Tree – RMSE: 4.56 ± 0.83\n"
     ]
    }
   ],
   "source": [
    "from sklearn.tree import DecisionTreeRegressor\n",
    "from sklearn.model_selection import GridSearchCV, KFold, ShuffleSplit\n",
    "from sklearn.metrics import mean_absolute_error, mean_squared_error\n",
    "import numpy as np\n",
    "\n",
    "dtree = DecisionTreeRegressor(random_state=42)\n",
    "\n",
    "param_grid = {\n",
    "    \"max_depth\": [3, 5, 7, 9, None],\n",
    "    \"min_samples_split\": [2, 5, 10],\n",
    "    \"min_samples_leaf\": [1, 2, 5]\n",
    "}\n",
    "\n",
    "inner_cv = KFold(n_splits=7, shuffle=True, random_state=42)\n",
    "splitter = ShuffleSplit(n_splits=50, test_size=0.3, random_state=42)\n",
    "\n",
    "mae_scores, rmse_scores = [], []\n",
    "\n",
    "for train_idx, test_idx in splitter.split(X):\n",
    "    X_train, X_test = X[train_idx], X[test_idx]\n",
    "    y_train, y_test = y[train_idx], y[test_idx]\n",
    "\n",
    "    grid = GridSearchCV(\n",
    "        dtree,\n",
    "        param_grid,\n",
    "        scoring=\"neg_mean_squared_error\",\n",
    "        cv=inner_cv,\n",
    "        n_jobs=-1\n",
    "    )\n",
    "    grid.fit(X_train, y_train)\n",
    "\n",
    "    y_pred = grid.predict(X_test)\n",
    "\n",
    "    mae_scores.append(mean_absolute_error(y_test, y_pred))\n",
    "    rmse_scores.append(mean_squared_error(y_test, y_pred) ** 0.5)\n",
    "\n",
    "mae_median = np.median(mae_scores)\n",
    "mae_std = np.std(mae_scores, ddof=1)\n",
    "rmse_median = np.median(rmse_scores)\n",
    "rmse_std = np.std(rmse_scores, ddof=1)\n",
    "\n",
    "print(f\"Decision Tree – MAE:  {mae_median:.2f} ± {mae_std:.2f}\")\n",
    "print(f\"Decision Tree – RMSE: {rmse_median:.2f} ± {rmse_std:.2f}\")\n"
   ]
  },
  {
   "cell_type": "code",
   "execution_count": 53,
   "id": "5502c4ef",
   "metadata": {},
   "outputs": [],
   "source": [
    "#Ejercicio 2"
   ]
  },
  {
   "cell_type": "code",
   "execution_count": null,
   "id": "a822040c",
   "metadata": {},
   "outputs": [],
   "source": []
  }
 ],
 "metadata": {
  "kernelspec": {
   "display_name": ".venv",
   "language": "python",
   "name": "python3"
  },
  "language_info": {
   "codemirror_mode": {
    "name": "ipython",
    "version": 3
   },
   "file_extension": ".py",
   "mimetype": "text/x-python",
   "name": "python",
   "nbconvert_exporter": "python",
   "pygments_lexer": "ipython3",
   "version": "3.13.7"
  }
 },
 "nbformat": 4,
 "nbformat_minor": 5
}
